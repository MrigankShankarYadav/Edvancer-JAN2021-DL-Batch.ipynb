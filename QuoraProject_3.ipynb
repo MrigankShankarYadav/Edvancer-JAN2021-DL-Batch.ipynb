{
  "nbformat": 4,
  "nbformat_minor": 0,
  "metadata": {
    "colab": {
      "name": "QuoraProject#3.ipynb",
      "provenance": [],
      "collapsed_sections": []
    },
    "kernelspec": {
      "name": "python3",
      "display_name": "Python 3"
    },
    "language_info": {
      "name": "python"
    },
    "accelerator": "GPU"
  },
  "cells": [
    {
      "cell_type": "code",
      "metadata": {
        "id": "tGzxDgl-5vBh"
      },
      "source": [
        "%tensorflow_version 2.x"
      ],
      "execution_count": 3,
      "outputs": []
    },
    {
      "cell_type": "code",
      "metadata": {
        "colab": {
          "base_uri": "https://localhost:8080/"
        },
        "id": "PV5a-jJF5-MC",
        "outputId": "bf01d069-a216-44ef-a132-27b1d3428708"
      },
      "source": [
        "!wget https://www.dropbox.com/sh/kpf9z73woodfssv/AAAw1_JIzpuVvwteJCma0xMla"
      ],
      "execution_count": 4,
      "outputs": [
        {
          "output_type": "stream",
          "text": [
            "--2021-06-09 14:03:16--  https://www.dropbox.com/sh/kpf9z73woodfssv/AAAw1_JIzpuVvwteJCma0xMla\n",
            "Resolving www.dropbox.com (www.dropbox.com)... 162.125.6.18, 2620:100:601c:18::a27d:612\n",
            "Connecting to www.dropbox.com (www.dropbox.com)|162.125.6.18|:443... connected.\n",
            "HTTP request sent, awaiting response... 301 Moved Permanently\n",
            "Location: /sh/raw/kpf9z73woodfssv/AAAw1_JIzpuVvwteJCma0xMla [following]\n",
            "--2021-06-09 14:03:16--  https://www.dropbox.com/sh/raw/kpf9z73woodfssv/AAAw1_JIzpuVvwteJCma0xMla\n",
            "Reusing existing connection to www.dropbox.com:443.\n",
            "HTTP request sent, awaiting response... 302 Found\n",
            "Location: https://uc3514698bd72c1949938c6d036b.dl.dropboxusercontent.com/zip_download_get/AzfBuw9E6R5PPs_VbbrNl568loD0zDXnRJ6UplpGGv2RyabrDhZUR94qAVLi1cZgSzpbD0WU9mshCpeYQhRkmaogqSYpxYgTPuK30uCx5K7arQ# [following]\n",
            "--2021-06-09 14:03:17--  https://uc3514698bd72c1949938c6d036b.dl.dropboxusercontent.com/zip_download_get/AzfBuw9E6R5PPs_VbbrNl568loD0zDXnRJ6UplpGGv2RyabrDhZUR94qAVLi1cZgSzpbD0WU9mshCpeYQhRkmaogqSYpxYgTPuK30uCx5K7arQ\n",
            "Resolving uc3514698bd72c1949938c6d036b.dl.dropboxusercontent.com (uc3514698bd72c1949938c6d036b.dl.dropboxusercontent.com)... 162.125.6.15, 2620:100:6020:15::a27d:400f\n",
            "Connecting to uc3514698bd72c1949938c6d036b.dl.dropboxusercontent.com (uc3514698bd72c1949938c6d036b.dl.dropboxusercontent.com)|162.125.6.15|:443... connected.\n",
            "HTTP request sent, awaiting response... 200 OK\n",
            "Length: 124206982 (118M) [application/zip]\n",
            "Saving to: ‘AAAw1_JIzpuVvwteJCma0xMla’\n",
            "\n",
            "AAAw1_JIzpuVvwteJCm 100%[===================>] 118.45M   151MB/s    in 0.8s    \n",
            "\n",
            "2021-06-09 14:03:18 (151 MB/s) - ‘AAAw1_JIzpuVvwteJCma0xMla’ saved [124206982/124206982]\n",
            "\n"
          ],
          "name": "stdout"
        }
      ]
    },
    {
      "cell_type": "code",
      "metadata": {
        "colab": {
          "base_uri": "https://localhost:8080/"
        },
        "id": "R9ykNqld6VRM",
        "outputId": "35776e5a-ff39-4067-cad4-7d83cf652d20"
      },
      "source": [
        "!unzip /content/AAAw1_JIzpuVvwteJCma0xMla\n",
        "\n"
      ],
      "execution_count": 5,
      "outputs": [
        {
          "output_type": "stream",
          "text": [
            "Archive:  /content/AAAw1_JIzpuVvwteJCma0xMla\n",
            "warning:  stripped absolute path spec from /\n",
            "mapname:  conversion of  failed\n",
            " extracting: train.csv               \n"
          ],
          "name": "stdout"
        }
      ]
    },
    {
      "cell_type": "code",
      "metadata": {
        "id": "YYUwmjNP6NAq"
      },
      "source": [
        "import pandas as pd\n",
        "Quora = pd.read_csv(r\"/content/train.csv\")"
      ],
      "execution_count": 6,
      "outputs": []
    },
    {
      "cell_type": "code",
      "metadata": {
        "colab": {
          "base_uri": "https://localhost:8080/",
          "height": 206
        },
        "id": "9XK15RG88l44",
        "outputId": "09ff61dc-2213-4cff-e430-86f398e0d026"
      },
      "source": [
        "Quora.head()\n"
      ],
      "execution_count": 7,
      "outputs": [
        {
          "output_type": "execute_result",
          "data": {
            "text/html": [
              "<div>\n",
              "<style scoped>\n",
              "    .dataframe tbody tr th:only-of-type {\n",
              "        vertical-align: middle;\n",
              "    }\n",
              "\n",
              "    .dataframe tbody tr th {\n",
              "        vertical-align: top;\n",
              "    }\n",
              "\n",
              "    .dataframe thead th {\n",
              "        text-align: right;\n",
              "    }\n",
              "</style>\n",
              "<table border=\"1\" class=\"dataframe\">\n",
              "  <thead>\n",
              "    <tr style=\"text-align: right;\">\n",
              "      <th></th>\n",
              "      <th>qid</th>\n",
              "      <th>question_text</th>\n",
              "      <th>target</th>\n",
              "    </tr>\n",
              "  </thead>\n",
              "  <tbody>\n",
              "    <tr>\n",
              "      <th>0</th>\n",
              "      <td>00002165364db923c7e6</td>\n",
              "      <td>How did Quebec nationalists see their province...</td>\n",
              "      <td>0</td>\n",
              "    </tr>\n",
              "    <tr>\n",
              "      <th>1</th>\n",
              "      <td>000032939017120e6e44</td>\n",
              "      <td>Do you have an adopted dog, how would you enco...</td>\n",
              "      <td>0</td>\n",
              "    </tr>\n",
              "    <tr>\n",
              "      <th>2</th>\n",
              "      <td>0000412ca6e4628ce2cf</td>\n",
              "      <td>Why does velocity affect time? Does velocity a...</td>\n",
              "      <td>0</td>\n",
              "    </tr>\n",
              "    <tr>\n",
              "      <th>3</th>\n",
              "      <td>000042bf85aa498cd78e</td>\n",
              "      <td>How did Otto von Guericke used the Magdeburg h...</td>\n",
              "      <td>0</td>\n",
              "    </tr>\n",
              "    <tr>\n",
              "      <th>4</th>\n",
              "      <td>0000455dfa3e01eae3af</td>\n",
              "      <td>Can I convert montra helicon D to a mountain b...</td>\n",
              "      <td>0</td>\n",
              "    </tr>\n",
              "  </tbody>\n",
              "</table>\n",
              "</div>"
            ],
            "text/plain": [
              "                    qid  ... target\n",
              "0  00002165364db923c7e6  ...      0\n",
              "1  000032939017120e6e44  ...      0\n",
              "2  0000412ca6e4628ce2cf  ...      0\n",
              "3  000042bf85aa498cd78e  ...      0\n",
              "4  0000455dfa3e01eae3af  ...      0\n",
              "\n",
              "[5 rows x 3 columns]"
            ]
          },
          "metadata": {
            "tags": []
          },
          "execution_count": 7
        }
      ]
    },
    {
      "cell_type": "code",
      "metadata": {
        "id": "LPMbSaFY6nH6"
      },
      "source": [
        "Quora.drop([\"qid\"],axis=1,inplace=True)"
      ],
      "execution_count": 8,
      "outputs": []
    },
    {
      "cell_type": "code",
      "metadata": {
        "colab": {
          "base_uri": "https://localhost:8080/",
          "height": 424
        },
        "id": "U61DBopI7WtY",
        "outputId": "2214a430-a861-491f-ec69-27dd92c8e0f1"
      },
      "source": [
        "Quora"
      ],
      "execution_count": 9,
      "outputs": [
        {
          "output_type": "execute_result",
          "data": {
            "text/html": [
              "<div>\n",
              "<style scoped>\n",
              "    .dataframe tbody tr th:only-of-type {\n",
              "        vertical-align: middle;\n",
              "    }\n",
              "\n",
              "    .dataframe tbody tr th {\n",
              "        vertical-align: top;\n",
              "    }\n",
              "\n",
              "    .dataframe thead th {\n",
              "        text-align: right;\n",
              "    }\n",
              "</style>\n",
              "<table border=\"1\" class=\"dataframe\">\n",
              "  <thead>\n",
              "    <tr style=\"text-align: right;\">\n",
              "      <th></th>\n",
              "      <th>question_text</th>\n",
              "      <th>target</th>\n",
              "    </tr>\n",
              "  </thead>\n",
              "  <tbody>\n",
              "    <tr>\n",
              "      <th>0</th>\n",
              "      <td>How did Quebec nationalists see their province...</td>\n",
              "      <td>0</td>\n",
              "    </tr>\n",
              "    <tr>\n",
              "      <th>1</th>\n",
              "      <td>Do you have an adopted dog, how would you enco...</td>\n",
              "      <td>0</td>\n",
              "    </tr>\n",
              "    <tr>\n",
              "      <th>2</th>\n",
              "      <td>Why does velocity affect time? Does velocity a...</td>\n",
              "      <td>0</td>\n",
              "    </tr>\n",
              "    <tr>\n",
              "      <th>3</th>\n",
              "      <td>How did Otto von Guericke used the Magdeburg h...</td>\n",
              "      <td>0</td>\n",
              "    </tr>\n",
              "    <tr>\n",
              "      <th>4</th>\n",
              "      <td>Can I convert montra helicon D to a mountain b...</td>\n",
              "      <td>0</td>\n",
              "    </tr>\n",
              "    <tr>\n",
              "      <th>...</th>\n",
              "      <td>...</td>\n",
              "      <td>...</td>\n",
              "    </tr>\n",
              "    <tr>\n",
              "      <th>1306117</th>\n",
              "      <td>What other technical skills do you need as a c...</td>\n",
              "      <td>0</td>\n",
              "    </tr>\n",
              "    <tr>\n",
              "      <th>1306118</th>\n",
              "      <td>Does MS in ECE have good job prospects in USA ...</td>\n",
              "      <td>0</td>\n",
              "    </tr>\n",
              "    <tr>\n",
              "      <th>1306119</th>\n",
              "      <td>Is foam insulation toxic?</td>\n",
              "      <td>0</td>\n",
              "    </tr>\n",
              "    <tr>\n",
              "      <th>1306120</th>\n",
              "      <td>How can one start a research project based on ...</td>\n",
              "      <td>0</td>\n",
              "    </tr>\n",
              "    <tr>\n",
              "      <th>1306121</th>\n",
              "      <td>Who wins in a battle between a Wolverine and a...</td>\n",
              "      <td>0</td>\n",
              "    </tr>\n",
              "  </tbody>\n",
              "</table>\n",
              "<p>1306122 rows × 2 columns</p>\n",
              "</div>"
            ],
            "text/plain": [
              "                                             question_text  target\n",
              "0        How did Quebec nationalists see their province...       0\n",
              "1        Do you have an adopted dog, how would you enco...       0\n",
              "2        Why does velocity affect time? Does velocity a...       0\n",
              "3        How did Otto von Guericke used the Magdeburg h...       0\n",
              "4        Can I convert montra helicon D to a mountain b...       0\n",
              "...                                                    ...     ...\n",
              "1306117  What other technical skills do you need as a c...       0\n",
              "1306118  Does MS in ECE have good job prospects in USA ...       0\n",
              "1306119                          Is foam insulation toxic?       0\n",
              "1306120  How can one start a research project based on ...       0\n",
              "1306121  Who wins in a battle between a Wolverine and a...       0\n",
              "\n",
              "[1306122 rows x 2 columns]"
            ]
          },
          "metadata": {
            "tags": []
          },
          "execution_count": 9
        }
      ]
    },
    {
      "cell_type": "code",
      "metadata": {
        "colab": {
          "base_uri": "https://localhost:8080/"
        },
        "id": "CoUt01J_-ke0",
        "outputId": "d8bba0b1-e581-40da-f163-b13f78f70643"
      },
      "source": [
        "!wget http://nlp.stanford.edu/data/glove.42B.300d.zip\n",
        "\n"
      ],
      "execution_count": 10,
      "outputs": [
        {
          "output_type": "stream",
          "text": [
            "--2021-06-09 14:05:52--  http://nlp.stanford.edu/data/glove.42B.300d.zip\n",
            "Resolving nlp.stanford.edu (nlp.stanford.edu)... 171.64.67.140\n",
            "Connecting to nlp.stanford.edu (nlp.stanford.edu)|171.64.67.140|:80... connected.\n",
            "HTTP request sent, awaiting response... 302 Found\n",
            "Location: https://nlp.stanford.edu/data/glove.42B.300d.zip [following]\n",
            "--2021-06-09 14:05:53--  https://nlp.stanford.edu/data/glove.42B.300d.zip\n",
            "Connecting to nlp.stanford.edu (nlp.stanford.edu)|171.64.67.140|:443... connected.\n",
            "HTTP request sent, awaiting response... 301 Moved Permanently\n",
            "Location: http://downloads.cs.stanford.edu/nlp/data/glove.42B.300d.zip [following]\n",
            "--2021-06-09 14:05:53--  http://downloads.cs.stanford.edu/nlp/data/glove.42B.300d.zip\n",
            "Resolving downloads.cs.stanford.edu (downloads.cs.stanford.edu)... 171.64.64.22\n",
            "Connecting to downloads.cs.stanford.edu (downloads.cs.stanford.edu)|171.64.64.22|:80... connected.\n",
            "HTTP request sent, awaiting response... 200 OK\n",
            "Length: 1877800501 (1.7G) [application/zip]\n",
            "Saving to: ‘glove.42B.300d.zip’\n",
            "\n",
            "glove.42B.300d.zip  100%[===================>]   1.75G  5.26MB/s    in 5m 55s  \n",
            "\n",
            "2021-06-09 14:11:49 (5.04 MB/s) - ‘glove.42B.300d.zip’ saved [1877800501/1877800501]\n",
            "\n"
          ],
          "name": "stdout"
        }
      ]
    },
    {
      "cell_type": "code",
      "metadata": {
        "colab": {
          "base_uri": "https://localhost:8080/"
        },
        "id": "iHPDxy-FGAL6",
        "outputId": "25e3b7fc-fa18-446d-c4e3-03765903c7a2"
      },
      "source": [
        "!unzip /content/glove.42B.300d.zip\n"
      ],
      "execution_count": 11,
      "outputs": [
        {
          "output_type": "stream",
          "text": [
            "Archive:  /content/glove.42B.300d.zip\n",
            "  inflating: glove.42B.300d.txt      \n"
          ],
          "name": "stdout"
        }
      ]
    },
    {
      "cell_type": "code",
      "metadata": {
        "id": "3ZjWcQCRHo9F"
      },
      "source": [
        "!rm /content/glove.42B.300d.zip"
      ],
      "execution_count": 12,
      "outputs": []
    },
    {
      "cell_type": "code",
      "metadata": {
        "id": "aOWsXk8eICyi"
      },
      "source": [
        "import numpy as np"
      ],
      "execution_count": 13,
      "outputs": []
    },
    {
      "cell_type": "code",
      "metadata": {
        "id": "JLkS5C4HIIrj"
      },
      "source": [
        "embeding_index={}\n",
        "\n",
        "f=open('glove.42B.300d.txt',encoding='utf-8')\n",
        "\n",
        "for line in f:\n",
        "    values=line.split()\n",
        "    word=values[0]\n",
        "    coefs=np.asarray(values[1:],dtype='float32')\n",
        "    embeding_index[word]=coefs\n",
        "f.close()"
      ],
      "execution_count": 14,
      "outputs": []
    },
    {
      "cell_type": "code",
      "metadata": {
        "id": "pWt_SAJuIVrh"
      },
      "source": [
        "from sklearn.model_selection import train_test_split\n",
        "Quora_train,Quora_test=train_test_split(Quora,test_size=0.2)"
      ],
      "execution_count": 16,
      "outputs": []
    },
    {
      "cell_type": "code",
      "metadata": {
        "id": "Vb2OByLNJBGg"
      },
      "source": [
        "x_train=Quora_train['question_text']\n",
        "y_train=Quora_train['target']\n",
        "x_test=Quora_test['question_text']\n",
        "y_test=Quora_test['target']"
      ],
      "execution_count": 17,
      "outputs": []
    },
    {
      "cell_type": "code",
      "metadata": {
        "id": "sfhwFfNXJd2x"
      },
      "source": [
        "\n",
        "\n",
        "from tensorflow.keras.preprocessing.text import Tokenizer\n",
        "from tensorflow.keras.preprocessing import sequence\n",
        "from tensorflow.keras.layers import LSTM,Activation,Dense,Input,Embedding,Dropout\n",
        "from tensorflow.keras.models import Model\n",
        "\n"
      ],
      "execution_count": 18,
      "outputs": []
    },
    {
      "cell_type": "code",
      "metadata": {
        "id": "1NFPfQgyJnkQ"
      },
      "source": [
        "from nltk import word_tokenize"
      ],
      "execution_count": 19,
      "outputs": []
    },
    {
      "cell_type": "code",
      "metadata": {
        "colab": {
          "base_uri": "https://localhost:8080/"
        },
        "id": "gb_K4vaHJrmQ",
        "outputId": "ba44cd20-f0ca-4dff-9b35-4167415f2a19"
      },
      "source": [
        "\n",
        "\n",
        "import nltk\n",
        "nltk.download('punkt')\n",
        "\n"
      ],
      "execution_count": 20,
      "outputs": [
        {
          "output_type": "stream",
          "text": [
            "[nltk_data] Downloading package punkt to /root/nltk_data...\n",
            "[nltk_data]   Unzipping tokenizers/punkt.zip.\n"
          ],
          "name": "stdout"
        },
        {
          "output_type": "execute_result",
          "data": {
            "text/plain": [
              "True"
            ]
          },
          "metadata": {
            "tags": []
          },
          "execution_count": 20
        }
      ]
    },
    {
      "cell_type": "code",
      "metadata": {
        "id": "4-1t1kLoJu6Q"
      },
      "source": [
        "sent_lens=[len(word_tokenize(x)) for x in x_train]"
      ],
      "execution_count": 21,
      "outputs": []
    },
    {
      "cell_type": "code",
      "metadata": {
        "colab": {
          "base_uri": "https://localhost:8080/"
        },
        "id": "L4Gf2g4PJ4Hv",
        "outputId": "7095a025-b4ba-4771-f0ff-4fb99873ccc1"
      },
      "source": [
        "np.percentile(sent_lens,95)"
      ],
      "execution_count": 22,
      "outputs": [
        {
          "output_type": "execute_result",
          "data": {
            "text/plain": [
              "31.0"
            ]
          },
          "metadata": {
            "tags": []
          },
          "execution_count": 22
        }
      ]
    },
    {
      "cell_type": "code",
      "metadata": {
        "id": "JlB7bkimP8fq"
      },
      "source": [
        "max_len=31\n",
        "\n",
        "tk=Tokenizer(char_level=False,split=' ')\n",
        "\n",
        "tk.fit_on_texts(x_train)\n",
        "\n",
        "seq_train=tk.texts_to_sequences(x_train)\n",
        "seq_test=tk.texts_to_sequences(x_test)\n",
        "\n",
        "vocab_size=len(tk.word_index)\n",
        "\n",
        "seq_train_matrix=sequence.pad_sequences(seq_train,maxlen=max_len)\n",
        "seq_test_matrix=sequence.pad_sequences(seq_test,maxlen=max_len)\n",
        "\n"
      ],
      "execution_count": 23,
      "outputs": []
    },
    {
      "cell_type": "code",
      "metadata": {
        "id": "xtf6lx84QMV0"
      },
      "source": [
        "embedding_matrix=np.zeros((vocab_size+1,300))\n",
        "words_not_available=0\n",
        "for word,i in tk.word_index.items():\n",
        "    embed_vector=embeding_index.get(word)\n",
        "    if embed_vector is not None:\n",
        "        embedding_matrix[i]=embed_vector\n",
        "    else:\n",
        "      words_not_available+=1\n",
        "\n"
      ],
      "execution_count": 24,
      "outputs": []
    },
    {
      "cell_type": "code",
      "metadata": {
        "colab": {
          "base_uri": "https://localhost:8080/"
        },
        "id": "s85tIEBYQZS0",
        "outputId": "119398b2-d16f-4960-e9d1-cfadca2c201a"
      },
      "source": [
        "words_not_available"
      ],
      "execution_count": 25,
      "outputs": [
        {
          "output_type": "execute_result",
          "data": {
            "text/plain": [
              "62161"
            ]
          },
          "metadata": {
            "tags": []
          },
          "execution_count": 25
        }
      ]
    },
    {
      "cell_type": "code",
      "metadata": {
        "colab": {
          "base_uri": "https://localhost:8080/"
        },
        "id": "LDwfQUIpQeCE",
        "outputId": "fe08f1e4-94ba-4ab0-9b9a-054ac4e2c415"
      },
      "source": [
        "vocab_size"
      ],
      "execution_count": 26,
      "outputs": [
        {
          "output_type": "execute_result",
          "data": {
            "text/plain": [
              "196354"
            ]
          },
          "metadata": {
            "tags": []
          },
          "execution_count": 26
        }
      ]
    },
    {
      "cell_type": "code",
      "metadata": {
        "id": "rCJgxZrSQjdU"
      },
      "source": [
        "inputs=Input(name='text_input',shape=[max_len])\n",
        "embed=Embedding(vocab_size+1,300,input_length=max_len,mask_zero=True,\n",
        "                weights=[embedding_matrix],trainable=False)(inputs)\n",
        "lstm_layer=LSTM(50)(embed)\n",
        "dense1=Dense(10,activation='relu')(lstm_layer)\n",
        "drop=Dropout(0.2)(dense1)\n",
        "final_layer=Dense(1,activation='sigmoid')(drop)\n",
        "\n",
        "model=Model(inputs=inputs,outputs=final_layer)"
      ],
      "execution_count": 27,
      "outputs": []
    },
    {
      "cell_type": "code",
      "metadata": {
        "colab": {
          "base_uri": "https://localhost:8080/"
        },
        "id": "8Gf8HIbwQtGj",
        "outputId": "c52bb0a6-7fc0-4d29-b2bb-c3ef0779c124"
      },
      "source": [
        "model.summary()"
      ],
      "execution_count": 28,
      "outputs": [
        {
          "output_type": "stream",
          "text": [
            "Model: \"model\"\n",
            "_________________________________________________________________\n",
            "Layer (type)                 Output Shape              Param #   \n",
            "=================================================================\n",
            "text_input (InputLayer)      [(None, 31)]              0         \n",
            "_________________________________________________________________\n",
            "embedding (Embedding)        (None, 31, 300)           58906500  \n",
            "_________________________________________________________________\n",
            "lstm (LSTM)                  (None, 50)                70200     \n",
            "_________________________________________________________________\n",
            "dense (Dense)                (None, 10)                510       \n",
            "_________________________________________________________________\n",
            "dropout (Dropout)            (None, 10)                0         \n",
            "_________________________________________________________________\n",
            "dense_1 (Dense)              (None, 1)                 11        \n",
            "=================================================================\n",
            "Total params: 58,977,221\n",
            "Trainable params: 70,721\n",
            "Non-trainable params: 58,906,500\n",
            "_________________________________________________________________\n"
          ],
          "name": "stdout"
        }
      ]
    },
    {
      "cell_type": "code",
      "metadata": {
        "id": "y7tEJzPlQypi"
      },
      "source": [
        "model.compile(optimizer='adam',loss='binary_crossentropy',metrics=['accuracy'])"
      ],
      "execution_count": 29,
      "outputs": []
    },
    {
      "cell_type": "code",
      "metadata": {
        "id": "FgsunKBQQ6BC"
      },
      "source": [
        "from sklearn.utils import class_weight\n",
        "cw = class_weight.compute_class_weight('balanced', np.unique(y_train),y_train)"
      ],
      "execution_count": 30,
      "outputs": []
    },
    {
      "cell_type": "code",
      "metadata": {
        "colab": {
          "base_uri": "https://localhost:8080/"
        },
        "id": "C66aaJnkRFCD",
        "outputId": "13ac24bf-e2cd-4d4f-f434-d0c4b5d98e4a"
      },
      "source": [
        "class_weight_dict = dict(enumerate(cw))\n",
        "class_weight_dict"
      ],
      "execution_count": 31,
      "outputs": [
        {
          "output_type": "execute_result",
          "data": {
            "text/plain": [
              "{0: 0.5329986757885588, 1: 8.076061585073658}"
            ]
          },
          "metadata": {
            "tags": []
          },
          "execution_count": 31
        }
      ]
    },
    {
      "cell_type": "code",
      "metadata": {
        "colab": {
          "base_uri": "https://localhost:8080/"
        },
        "id": "e4vmcVKuRm2y",
        "outputId": "e7ae266c-d570-4770-b5b9-93f53e20cb60"
      },
      "source": [
        "model.fit(seq_train_matrix,y_train.values,validation_data=(seq_test_matrix,y_test.values),epochs=40,class_weight=class_weight_dict,\n",
        "          batch_size=30000)"
      ],
      "execution_count": 32,
      "outputs": [
        {
          "output_type": "stream",
          "text": [
            "WARNING:tensorflow:From /usr/local/lib/python3.7/dist-packages/tensorflow/python/ops/array_ops.py:5049: calling gather (from tensorflow.python.ops.array_ops) with validate_indices is deprecated and will be removed in a future version.\n",
            "Instructions for updating:\n",
            "The `validate_indices` argument has no effect. Indices are always validated on CPU and never validated on GPU.\n",
            "Epoch 1/40\n",
            "35/35 [==============================] - 28s 580ms/step - loss: 0.5412 - accuracy: 0.7114 - val_loss: 0.3764 - val_accuracy: 0.8289\n",
            "Epoch 2/40\n",
            "35/35 [==============================] - 19s 550ms/step - loss: 0.3543 - accuracy: 0.8509 - val_loss: 0.3045 - val_accuracy: 0.8721\n",
            "Epoch 3/40\n",
            "35/35 [==============================] - 19s 552ms/step - loss: 0.3167 - accuracy: 0.8700 - val_loss: 0.3365 - val_accuracy: 0.8573\n",
            "Epoch 4/40\n",
            "35/35 [==============================] - 19s 553ms/step - loss: 0.3030 - accuracy: 0.8733 - val_loss: 0.3011 - val_accuracy: 0.8724\n",
            "Epoch 5/40\n",
            "35/35 [==============================] - 19s 557ms/step - loss: 0.2954 - accuracy: 0.8760 - val_loss: 0.2669 - val_accuracy: 0.8887\n",
            "Epoch 6/40\n",
            "35/35 [==============================] - 19s 558ms/step - loss: 0.2882 - accuracy: 0.8788 - val_loss: 0.2746 - val_accuracy: 0.8852\n",
            "Epoch 7/40\n",
            "35/35 [==============================] - 19s 557ms/step - loss: 0.2821 - accuracy: 0.8804 - val_loss: 0.2612 - val_accuracy: 0.8904\n",
            "Epoch 8/40\n",
            "35/35 [==============================] - 19s 556ms/step - loss: 0.2769 - accuracy: 0.8826 - val_loss: 0.2425 - val_accuracy: 0.8992\n",
            "Epoch 9/40\n",
            "35/35 [==============================] - 19s 557ms/step - loss: 0.2719 - accuracy: 0.8841 - val_loss: 0.2797 - val_accuracy: 0.8795\n",
            "Epoch 10/40\n",
            "35/35 [==============================] - 20s 560ms/step - loss: 0.2686 - accuracy: 0.8845 - val_loss: 0.2208 - val_accuracy: 0.9073\n",
            "Epoch 11/40\n",
            "35/35 [==============================] - 19s 559ms/step - loss: 0.2636 - accuracy: 0.8871 - val_loss: 0.2438 - val_accuracy: 0.8975\n",
            "Epoch 12/40\n",
            "35/35 [==============================] - 19s 557ms/step - loss: 0.2602 - accuracy: 0.8873 - val_loss: 0.2398 - val_accuracy: 0.8989\n",
            "Epoch 13/40\n",
            "35/35 [==============================] - 19s 559ms/step - loss: 0.2582 - accuracy: 0.8889 - val_loss: 0.2436 - val_accuracy: 0.8976\n",
            "Epoch 14/40\n",
            "35/35 [==============================] - 19s 559ms/step - loss: 0.2543 - accuracy: 0.8900 - val_loss: 0.2587 - val_accuracy: 0.8905\n",
            "Epoch 15/40\n",
            "35/35 [==============================] - 19s 557ms/step - loss: 0.2497 - accuracy: 0.8918 - val_loss: 0.2347 - val_accuracy: 0.8997\n",
            "Epoch 16/40\n",
            "35/35 [==============================] - 19s 558ms/step - loss: 0.2480 - accuracy: 0.8923 - val_loss: 0.2592 - val_accuracy: 0.8891\n",
            "Epoch 17/40\n",
            "35/35 [==============================] - 19s 557ms/step - loss: 0.2439 - accuracy: 0.8927 - val_loss: 0.2290 - val_accuracy: 0.9026\n",
            "Epoch 18/40\n",
            "35/35 [==============================] - 19s 559ms/step - loss: 0.2418 - accuracy: 0.8936 - val_loss: 0.2427 - val_accuracy: 0.8950\n",
            "Epoch 19/40\n",
            "35/35 [==============================] - 19s 559ms/step - loss: 0.2390 - accuracy: 0.8945 - val_loss: 0.2522 - val_accuracy: 0.8909\n",
            "Epoch 20/40\n",
            "35/35 [==============================] - 19s 558ms/step - loss: 0.2366 - accuracy: 0.8947 - val_loss: 0.2528 - val_accuracy: 0.8915\n",
            "Epoch 21/40\n",
            "35/35 [==============================] - 19s 557ms/step - loss: 0.2333 - accuracy: 0.8961 - val_loss: 0.2657 - val_accuracy: 0.8855\n",
            "Epoch 22/40\n",
            "35/35 [==============================] - 19s 555ms/step - loss: 0.2317 - accuracy: 0.8962 - val_loss: 0.2249 - val_accuracy: 0.9036\n",
            "Epoch 23/40\n",
            "35/35 [==============================] - 19s 554ms/step - loss: 0.2314 - accuracy: 0.8955 - val_loss: 0.2515 - val_accuracy: 0.8918\n",
            "Epoch 24/40\n",
            "35/35 [==============================] - 19s 556ms/step - loss: 0.2266 - accuracy: 0.8977 - val_loss: 0.2294 - val_accuracy: 0.9010\n",
            "Epoch 25/40\n",
            "35/35 [==============================] - 19s 557ms/step - loss: 0.2239 - accuracy: 0.8982 - val_loss: 0.2434 - val_accuracy: 0.8938\n",
            "Epoch 26/40\n",
            "35/35 [==============================] - 19s 557ms/step - loss: 0.2216 - accuracy: 0.8988 - val_loss: 0.2657 - val_accuracy: 0.8850\n",
            "Epoch 27/40\n",
            "35/35 [==============================] - 19s 555ms/step - loss: 0.2211 - accuracy: 0.8974 - val_loss: 0.2261 - val_accuracy: 0.9015\n",
            "Epoch 28/40\n",
            "35/35 [==============================] - 19s 555ms/step - loss: 0.2168 - accuracy: 0.8999 - val_loss: 0.2360 - val_accuracy: 0.8964\n",
            "Epoch 29/40\n",
            "35/35 [==============================] - 19s 553ms/step - loss: 0.2156 - accuracy: 0.8997 - val_loss: 0.2158 - val_accuracy: 0.9067\n",
            "Epoch 30/40\n",
            "35/35 [==============================] - 19s 554ms/step - loss: 0.2127 - accuracy: 0.9002 - val_loss: 0.2153 - val_accuracy: 0.9070\n",
            "Epoch 31/40\n",
            "35/35 [==============================] - 19s 554ms/step - loss: 0.2167 - accuracy: 0.8968 - val_loss: 0.2719 - val_accuracy: 0.8776\n",
            "Epoch 32/40\n",
            "35/35 [==============================] - 19s 554ms/step - loss: 0.2132 - accuracy: 0.8995 - val_loss: 0.2633 - val_accuracy: 0.8837\n",
            "Epoch 33/40\n",
            "35/35 [==============================] - 19s 552ms/step - loss: 0.2082 - accuracy: 0.9012 - val_loss: 0.2288 - val_accuracy: 0.9009\n",
            "Epoch 34/40\n",
            "35/35 [==============================] - 19s 554ms/step - loss: 0.2056 - accuracy: 0.9023 - val_loss: 0.2471 - val_accuracy: 0.8909\n",
            "Epoch 35/40\n",
            "35/35 [==============================] - 19s 555ms/step - loss: 0.2026 - accuracy: 0.9026 - val_loss: 0.2354 - val_accuracy: 0.8972\n",
            "Epoch 36/40\n",
            "35/35 [==============================] - 19s 554ms/step - loss: 0.2018 - accuracy: 0.9027 - val_loss: 0.2367 - val_accuracy: 0.8941\n",
            "Epoch 37/40\n",
            "35/35 [==============================] - 19s 554ms/step - loss: 0.2014 - accuracy: 0.9015 - val_loss: 0.1965 - val_accuracy: 0.9147\n",
            "Epoch 38/40\n",
            "35/35 [==============================] - 19s 554ms/step - loss: 0.1999 - accuracy: 0.9024 - val_loss: 0.2005 - val_accuracy: 0.9120\n",
            "Epoch 39/40\n",
            "35/35 [==============================] - 19s 553ms/step - loss: 0.1963 - accuracy: 0.9036 - val_loss: 0.2101 - val_accuracy: 0.9101\n",
            "Epoch 40/40\n",
            "35/35 [==============================] - 19s 553ms/step - loss: 0.1940 - accuracy: 0.9041 - val_loss: 0.2200 - val_accuracy: 0.9015\n"
          ],
          "name": "stdout"
        },
        {
          "output_type": "execute_result",
          "data": {
            "text/plain": [
              "<tensorflow.python.keras.callbacks.History at 0x7f368018f5d0>"
            ]
          },
          "metadata": {
            "tags": []
          },
          "execution_count": 32
        }
      ]
    },
    {
      "cell_type": "code",
      "metadata": {
        "id": "kMG4HD3hRvAR"
      },
      "source": [
        "p=model.predict(seq_test_matrix)"
      ],
      "execution_count": 33,
      "outputs": []
    },
    {
      "cell_type": "code",
      "metadata": {
        "colab": {
          "base_uri": "https://localhost:8080/"
        },
        "id": "0FbfQ2b_U8Nv",
        "outputId": "dd7ab645-cb65-4e7d-f668-36f418d40da7"
      },
      "source": [
        "from sklearn.metrics import roc_auc_score\n",
        "roc_auc_score(y_test,p)"
      ],
      "execution_count": 34,
      "outputs": [
        {
          "output_type": "execute_result",
          "data": {
            "text/plain": [
              "0.9587756078385348"
            ]
          },
          "metadata": {
            "tags": []
          },
          "execution_count": 34
        }
      ]
    },
    {
      "cell_type": "code",
      "metadata": {
        "id": "4W3LZ_akVug8"
      },
      "source": [
        ""
      ],
      "execution_count": null,
      "outputs": []
    }
  ]
}